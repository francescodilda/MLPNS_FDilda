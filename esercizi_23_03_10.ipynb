{
  "nbformat": 4,
  "nbformat_minor": 0,
  "metadata": {
    "colab": {
      "provenance": [],
      "authorship_tag": "ABX9TyPJMHCPfDl/quXgdnkgWHmd",
      "include_colab_link": true
    },
    "kernelspec": {
      "name": "python3",
      "display_name": "Python 3"
    },
    "language_info": {
      "name": "python"
    }
  },
  "cells": [
    {
      "cell_type": "markdown",
      "metadata": {
        "id": "view-in-github",
        "colab_type": "text"
      },
      "source": [
        "<a href=\"https://colab.research.google.com/github/francescodilda/MLPNS_FDilda/blob/main/esercizi_23_03_10.ipynb\" target=\"_parent\"><img src=\"https://colab.research.google.com/assets/colab-badge.svg\" alt=\"Open In Colab\"/></a>"
      ]
    },
    {
      "cell_type": "markdown",
      "source": [
        "#Esercizi assegnati il 10/03/23"
      ],
      "metadata": {
        "id": "hsnpITJjgynX"
      }
    },
    {
      "cell_type": "markdown",
      "source": [
        "EXERCISE 1\n",
        " - create a function that takes a string\n",
        " - checks if the string is a palindrome\n",
        " - returns 1 if true\n",
        " - return -1 if false\n",
        " - and also prints “Yes its a palindrome” or “this is not a palindrome”\n",
        " - add a print statement that prints ONLY the unique part (rad in radar)"
      ],
      "metadata": {
        "id": "bGJ7eTLphBcm"
      }
    },
    {
      "cell_type": "code",
      "execution_count": 4,
      "metadata": {
        "id": "y-138s_1gwJ6"
      },
      "outputs": [],
      "source": [
        "def ispalindrome(stringa):\n",
        "  #verifico che l'input sia una stringa altrimenti restituisco un errore\n",
        "  if isinstance(stringa, str):\n",
        "\n",
        "    stringa = stringa.lower()                                           #rendo minuscole tutte le lettere\n",
        "\n",
        "    if stringa == stringa[::-1]:                                        #verifico se la stringa è un palindromo\n",
        "\n",
        "      print(\"Yes it is a palindrome\")\n",
        "      uniquepart = 0\n",
        "      \n",
        "      #isolo la parte unica della stringa e la stampo\n",
        "      if (len(stringa) % 2) == 1:\n",
        "        uniquepart = round(len(stringa)/2) + 1\n",
        "      else:\n",
        "        uniquepart = round(len(stringa)/2)\n",
        "      print(\"its unique part is:  \", stringa[:uniquepart])\n",
        "\n",
        "      return 1\n",
        "\n",
        "    else:\n",
        "      \n",
        "      print(\"This is not a palindrome\")\n",
        "\n",
        "      return -1\n",
        "\n",
        "  else:\n",
        "    raise TypeError(\"The input should be a string and this is not.\")\n"
      ]
    },
    {
      "cell_type": "code",
      "source": [
        "ispalindrome(\"Hannah\")      #try on a palindrome"
      ],
      "metadata": {
        "colab": {
          "base_uri": "https://localhost:8080/"
        },
        "id": "EHqX_ondiQSN",
        "outputId": "e6666712-f482-49c5-f94b-76d5a10f016c"
      },
      "execution_count": 8,
      "outputs": [
        {
          "output_type": "stream",
          "name": "stdout",
          "text": [
            "Yes is a palindrome\n",
            "its unique part is:   han\n"
          ]
        },
        {
          "output_type": "execute_result",
          "data": {
            "text/plain": [
              "1"
            ]
          },
          "metadata": {},
          "execution_count": 8
        }
      ]
    },
    {
      "cell_type": "code",
      "source": [
        "ispalindrome(\"Banana\")      #try on a string that's not a palindrome"
      ],
      "metadata": {
        "colab": {
          "base_uri": "https://localhost:8080/"
        },
        "id": "g5ze2h95iTGt",
        "outputId": "cd77e88a-3481-4bc9-848c-cac7e63fe0cf"
      },
      "execution_count": 9,
      "outputs": [
        {
          "output_type": "stream",
          "name": "stdout",
          "text": [
            "This is not a palindrome\n"
          ]
        },
        {
          "output_type": "execute_result",
          "data": {
            "text/plain": [
              "-1"
            ]
          },
          "metadata": {},
          "execution_count": 9
        }
      ]
    },
    {
      "cell_type": "code",
      "source": [
        "ispalindrome(35)      #try not on a string"
      ],
      "metadata": {
        "colab": {
          "base_uri": "https://localhost:8080/",
          "height": 252
        },
        "id": "Ky0EnHfSDDvW",
        "outputId": "fcbdcf03-9ff8-4954-fbee-36b2d5a8a8fa"
      },
      "execution_count": 10,
      "outputs": [
        {
          "output_type": "error",
          "ename": "TypeError",
          "evalue": "ignored",
          "traceback": [
            "\u001b[0;31m---------------------------------------------------------------------------\u001b[0m",
            "\u001b[0;31mTypeError\u001b[0m                                 Traceback (most recent call last)",
            "\u001b[0;32m<ipython-input-10-a10de7bb23cc>\u001b[0m in \u001b[0;36m<module>\u001b[0;34m\u001b[0m\n\u001b[0;32m----> 1\u001b[0;31m \u001b[0mispalindrome\u001b[0m\u001b[0;34m(\u001b[0m\u001b[0;36m35\u001b[0m\u001b[0;34m)\u001b[0m      \u001b[0;31m#try not on a string\u001b[0m\u001b[0;34m\u001b[0m\u001b[0;34m\u001b[0m\u001b[0m\n\u001b[0m",
            "\u001b[0;32m<ipython-input-4-72994138a964>\u001b[0m in \u001b[0;36mispalindrome\u001b[0;34m(stringa)\u001b[0m\n\u001b[1;32m     19\u001b[0m       \u001b[0;32mreturn\u001b[0m \u001b[0;34m-\u001b[0m\u001b[0;36m1\u001b[0m\u001b[0;34m\u001b[0m\u001b[0;34m\u001b[0m\u001b[0m\n\u001b[1;32m     20\u001b[0m   \u001b[0;32melse\u001b[0m\u001b[0;34m:\u001b[0m\u001b[0;34m\u001b[0m\u001b[0;34m\u001b[0m\u001b[0m\n\u001b[0;32m---> 21\u001b[0;31m     \u001b[0;32mraise\u001b[0m \u001b[0mTypeError\u001b[0m\u001b[0;34m(\u001b[0m\u001b[0;34m\"The input should be a string and this is not.\"\u001b[0m\u001b[0;34m)\u001b[0m\u001b[0;34m\u001b[0m\u001b[0;34m\u001b[0m\u001b[0m\n\u001b[0m",
            "\u001b[0;31mTypeError\u001b[0m: The input should be a string and this is not."
          ]
        }
      ]
    },
    {
      "cell_type": "markdown",
      "source": [
        "EXERCISE2\n",
        "\n",
        " - create a numpy array containing numbers from 1 to 10\n",
        " - extract only even numbers with boolean operations\n",
        " - reverse it\n",
        " - make all those number odd\n",
        " \n",
        " (hint: you can use use range or np.arange to create the array)\n"
      ],
      "metadata": {
        "id": "Pya2iDgEDYvE"
      }
    },
    {
      "cell_type": "code",
      "source": [
        "import numpy as np\n",
        "\n",
        "nums = np.arange(1, 11)\n",
        "onlyeven = nums[(nums % 2) == 0]\n",
        "oe_reversed = onlyeven[::-1]\n",
        "odd_reversed = oe_reversed - 1\n",
        "\n",
        "odd_reversed"
      ],
      "metadata": {
        "colab": {
          "base_uri": "https://localhost:8080/"
        },
        "id": "y5Ea7EwZD0rQ",
        "outputId": "98a3e18c-2823-4af7-ac6f-f968a42c9770"
      },
      "execution_count": 12,
      "outputs": [
        {
          "output_type": "execute_result",
          "data": {
            "text/plain": [
              "array([9, 7, 5, 3, 1])"
            ]
          },
          "metadata": {},
          "execution_count": 12
        }
      ]
    }
  ]
}