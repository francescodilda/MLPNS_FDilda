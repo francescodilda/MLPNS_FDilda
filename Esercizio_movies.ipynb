{
  "nbformat": 4,
  "nbformat_minor": 0,
  "metadata": {
    "colab": {
      "provenance": [],
      "authorship_tag": "ABX9TyP0tknRp0h9L9GQroZaNt+p",
      "include_colab_link": true
    },
    "kernelspec": {
      "name": "python3",
      "display_name": "Python 3"
    },
    "language_info": {
      "name": "python"
    }
  },
  "cells": [
    {
      "cell_type": "markdown",
      "metadata": {
        "id": "view-in-github",
        "colab_type": "text"
      },
      "source": [
        "<a href=\"https://colab.research.google.com/github/francescodilda/MLPNS_FDilda/blob/main/Esercizio_movies.ipynb\" target=\"_parent\"><img src=\"https://colab.research.google.com/assets/colab-badge.svg\" alt=\"Open In Colab\"/></a>"
      ]
    },
    {
      "cell_type": "markdown",
      "source": [
        "##Esercizio per il 10 Marzo"
      ],
      "metadata": {
        "id": "jr3EtENAb140"
      }
    },
    {
      "cell_type": "code",
      "execution_count": 72,
      "metadata": {
        "colab": {
          "base_uri": "https://localhost:8080/"
        },
        "id": "MfqiGEfjGm2O",
        "outputId": "6b188124-6e89-4e63-a942-47a3954ed643"
      },
      "outputs": [
        {
          "output_type": "stream",
          "name": "stdout",
          "text": [
            "There are  1  Fantasy movie(s)\n",
            "There are  17  Adventure movie(s)\n",
            "\n",
            "\n",
            "There are  68  movies that are at least Fantasy\n",
            "They are:\n",
            "\n",
            "2                                          Jumanji (1995)\n",
            "56                         Kids of the Round Table (1995)\n",
            "60                     Indian in the Cupboard, The (1995)\n",
            "126                     NeverEnding Story III, The (1994)\n",
            "247                             Heavenly Creatures (1994)\n",
            "                              ...                        \n",
            "3479                                     Ladyhawke (1985)\n",
            "3489                                          Hook (1991)\n",
            "3877                                     Supergirl (1984)\n",
            "3889                           Highlander: Endgame (2000)\n",
            "3920    Faraway, So Close (In Weiter Ferne, So Nah!) (...\n",
            "Name: title, Length: 68, dtype: object\n"
          ]
        },
        {
          "output_type": "stream",
          "name": "stderr",
          "text": [
            "/usr/local/lib/python3.9/dist-packages/pandas/util/_decorators.py:311: ParserWarning: Falling back to the 'python' engine because the 'c' engine does not support regex separators (separators > 1 char and different from '\\s+' are interpreted as regex); you can avoid this warning by specifying engine='python'.\n",
            "  return func(*args, **kwargs)\n"
          ]
        }
      ],
      "source": [
        "#import necessary packages\n",
        "import pandas as pd\n",
        "\n",
        "\n",
        "\n",
        "url = \"https://raw.githubusercontent.com/fedhere/UInotebooks/master/dataWrangling/movies.dat\"\n",
        "\n",
        "#import the csv file and assign names to columns\n",
        "colnames = [\"title\", \"genre\"]\n",
        "movies = pd.read_csv(url, sep = \"::\", index_col= 0, header = None, names = colnames)\n",
        "\n",
        "#with these operations i will count the number of movies with genre only \"Fantasy\"\n",
        "onlyfan = sum(movies.loc[:, \"genre\"] == \"Fantasy\")\n",
        "onlyadv = sum(movies.loc[:, \"genre\"] == \"Adventure\")\n",
        "\n",
        "#print the results\n",
        "print(\"There are \", onlyfan, \" Fantasy movie(s)\")\n",
        "print(\"There are \", onlyadv, \" Adventure movie(s)\")\n",
        "print()\n",
        "print()\n",
        "\n",
        "#in this way I will count the number of movies with at least the genre \"Fantasy\" and I will list them\n",
        "\n",
        "f = lambda x: \"Fantasy\" in x.split(\"|\")\n",
        "cond = movies['genre'].map(f)\n",
        "leastfan = movies.loc[cond, :]\n",
        "\n",
        "counter = sum(cond)\n",
        "\n",
        "#for i in range(movies.shape[0]):\n",
        "#  if \"Fantasy\" in movies.iloc[i, 1].split(\"|\"):\n",
        "#    counter = counter + 1\n",
        "#    indexes = indexes + [i]\n",
        "\n",
        "print(\"There are \", counter, \" movies that are at least Fantasy\")\n",
        "\n",
        "#print()\n",
        "\n",
        "##uncomment this block to list them\n",
        "print(\"They are:\")\n",
        "print()\n",
        "print(leastfan[\"title\"])"
      ]
    }
  ]
}