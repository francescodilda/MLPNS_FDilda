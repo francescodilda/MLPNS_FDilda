{
  "nbformat": 4,
  "nbformat_minor": 0,
  "metadata": {
    "colab": {
      "provenance": [],
      "authorship_tag": "ABX9TyPP0zvfxRBBGXEdTxjtlK3j",
      "include_colab_link": true
    },
    "kernelspec": {
      "name": "python3",
      "display_name": "Python 3"
    },
    "language_info": {
      "name": "python"
    }
  },
  "cells": [
    {
      "cell_type": "markdown",
      "metadata": {
        "id": "view-in-github",
        "colab_type": "text"
      },
      "source": [
        "<a href=\"https://colab.research.google.com/github/francescodilda/MLPNS_FDilda/blob/main/MLPNS23_bootcamp.ipynb\" target=\"_parent\"><img src=\"https://colab.research.google.com/assets/colab-badge.svg\" alt=\"Open In Colab\"/></a>"
      ]
    },
    {
      "cell_type": "code",
      "execution_count": 1,
      "metadata": {
        "colab": {
          "base_uri": "https://localhost:8080/"
        },
        "id": "ez8za53z0T8q",
        "outputId": "86389046-2e91-4a5f-85e8-fd96f075ec68"
      },
      "outputs": [
        {
          "output_type": "execute_result",
          "data": {
            "text/plain": [
              "4"
            ]
          },
          "metadata": {},
          "execution_count": 1
        }
      ],
      "source": [
        "2*2"
      ]
    },
    {
      "cell_type": "code",
      "source": [],
      "metadata": {
        "id": "x96sP0Zh1nXw"
      },
      "execution_count": null,
      "outputs": []
    },
    {
      "cell_type": "markdown",
      "source": [
        "#First Markdown Cell#\n",
        "\n",
        "This is a text cell in markdown syntax, similar to LaTeX, for example I can write $e^{iθ} = cos θ + i sin θ$\n"
      ],
      "metadata": {
        "id": "KB_6dFEp1reM"
      }
    },
    {
      "cell_type": "markdown",
      "source": [
        "#Here we start coding#"
      ],
      "metadata": {
        "id": "wUUWNO-D2XR5"
      }
    },
    {
      "cell_type": "code",
      "source": [],
      "metadata": {
        "id": "UzLGwqvh2lim"
      },
      "execution_count": null,
      "outputs": []
    },
    {
      "cell_type": "markdown",
      "source": [
        "#Native variable and variable types#"
      ],
      "metadata": {
        "id": "MO_V1d4i21Vt"
      }
    },
    {
      "cell_type": "markdown",
      "source": [
        "##Integer and float variables##"
      ],
      "metadata": {
        "id": "AWhgUnGb7ahN"
      }
    },
    {
      "cell_type": "code",
      "source": [
        "intVar = 3"
      ],
      "metadata": {
        "id": "hjDGkkyU26Aq"
      },
      "execution_count": 2,
      "outputs": []
    },
    {
      "cell_type": "code",
      "source": [
        "type(intVar)"
      ],
      "metadata": {
        "colab": {
          "base_uri": "https://localhost:8080/"
        },
        "id": "qweAxyIa3bCK",
        "outputId": "6fafa4f6-1fbd-4e2e-a637-c526d598912d"
      },
      "execution_count": 3,
      "outputs": [
        {
          "output_type": "execute_result",
          "data": {
            "text/plain": [
              "int"
            ]
          },
          "metadata": {},
          "execution_count": 3
        }
      ]
    },
    {
      "cell_type": "code",
      "source": [
        "floatVar = 3.0"
      ],
      "metadata": {
        "id": "P0MuVNGm3fVO"
      },
      "execution_count": 4,
      "outputs": []
    },
    {
      "cell_type": "code",
      "source": [
        "type(floatVar)"
      ],
      "metadata": {
        "colab": {
          "base_uri": "https://localhost:8080/"
        },
        "id": "U5rA05EM3jKx",
        "outputId": "4e02046d-f261-4c1d-bd29-f7d8392a760a"
      },
      "execution_count": 5,
      "outputs": [
        {
          "output_type": "execute_result",
          "data": {
            "text/plain": [
              "float"
            ]
          },
          "metadata": {},
          "execution_count": 5
        }
      ]
    },
    {
      "cell_type": "code",
      "source": [
        "float2Var = float(intVar)"
      ],
      "metadata": {
        "id": "LJsbG6Wz3mlW"
      },
      "execution_count": 7,
      "outputs": []
    },
    {
      "cell_type": "code",
      "source": [
        "type(float2Var)"
      ],
      "metadata": {
        "colab": {
          "base_uri": "https://localhost:8080/"
        },
        "id": "qyFSAzT830QV",
        "outputId": "e9e7cebc-f519-4f83-d96f-282911d44314"
      },
      "execution_count": 8,
      "outputs": [
        {
          "output_type": "execute_result",
          "data": {
            "text/plain": [
              "float"
            ]
          },
          "metadata": {},
          "execution_count": 8
        }
      ]
    },
    {
      "cell_type": "code",
      "source": [
        "intVar * floatVar"
      ],
      "metadata": {
        "colab": {
          "base_uri": "https://localhost:8080/"
        },
        "id": "ibzXmUTh3_uZ",
        "outputId": "57c9bd32-fecb-4930-e9f2-f0631d4d231c"
      },
      "execution_count": 9,
      "outputs": [
        {
          "output_type": "execute_result",
          "data": {
            "text/plain": [
              "9.0"
            ]
          },
          "metadata": {},
          "execution_count": 9
        }
      ]
    },
    {
      "cell_type": "code",
      "source": [
        "type(intVar * floatVar)"
      ],
      "metadata": {
        "colab": {
          "base_uri": "https://localhost:8080/"
        },
        "id": "UxoLAn6k4If4",
        "outputId": "7386280b-b157-480a-d4d2-bdea20e1ae95"
      },
      "execution_count": 10,
      "outputs": [
        {
          "output_type": "execute_result",
          "data": {
            "text/plain": [
              "float"
            ]
          },
          "metadata": {},
          "execution_count": 10
        }
      ]
    },
    {
      "cell_type": "code",
      "source": [
        "type(intVar / 2)"
      ],
      "metadata": {
        "colab": {
          "base_uri": "https://localhost:8080/"
        },
        "id": "kX4ngH8-4MAd",
        "outputId": "f7d44835-9eee-498b-9e8b-286ab507e080"
      },
      "execution_count": 12,
      "outputs": [
        {
          "output_type": "execute_result",
          "data": {
            "text/plain": [
              "float"
            ]
          },
          "metadata": {},
          "execution_count": 12
        }
      ]
    },
    {
      "cell_type": "code",
      "source": [
        "intVar + floatVar - intVar / 2"
      ],
      "metadata": {
        "colab": {
          "base_uri": "https://localhost:8080/"
        },
        "id": "IjjXNIkq4h36",
        "outputId": "83888f2d-9256-48b2-e25c-8ae3cc14c6fb"
      },
      "execution_count": 13,
      "outputs": [
        {
          "output_type": "execute_result",
          "data": {
            "text/plain": [
              "4.5"
            ]
          },
          "metadata": {},
          "execution_count": 13
        }
      ]
    },
    {
      "cell_type": "code",
      "source": [
        "type(intVar + floatVar - intVar / 2)"
      ],
      "metadata": {
        "colab": {
          "base_uri": "https://localhost:8080/"
        },
        "id": "0lf6f9lH5Auh",
        "outputId": "b4fb787b-affb-4f1f-ea67-ccc9ed511077"
      },
      "execution_count": 14,
      "outputs": [
        {
          "output_type": "execute_result",
          "data": {
            "text/plain": [
              "float"
            ]
          },
          "metadata": {},
          "execution_count": 14
        }
      ]
    },
    {
      "cell_type": "markdown",
      "source": [
        "##String Variables##"
      ],
      "metadata": {
        "id": "HlAo-V6K6_oR"
      }
    },
    {
      "cell_type": "code",
      "source": [
        "print(\"Hello world\")"
      ],
      "metadata": {
        "colab": {
          "base_uri": "https://localhost:8080/"
        },
        "id": "0pfz6Y_e5Dyg",
        "outputId": "d51f9218-d7d2-4cd4-b201-1e80aa557cfe"
      },
      "execution_count": 15,
      "outputs": [
        {
          "output_type": "stream",
          "name": "stdout",
          "text": [
            "Hello world\n"
          ]
        }
      ]
    },
    {
      "cell_type": "code",
      "source": [
        "print('''Hello\n",
        "  world''')"
      ],
      "metadata": {
        "colab": {
          "base_uri": "https://localhost:8080/"
        },
        "id": "lXMwns9G5xxJ",
        "outputId": "6546d1f2-db2f-401e-836a-b64d537e9b55"
      },
      "execution_count": 16,
      "outputs": [
        {
          "output_type": "stream",
          "name": "stdout",
          "text": [
            "Hello\n",
            "  world\n"
          ]
        }
      ]
    },
    {
      "cell_type": "code",
      "source": [
        "print(\"hello\n",
        "  world\")"
      ],
      "metadata": {
        "colab": {
          "base_uri": "https://localhost:8080/",
          "height": 130
        },
        "id": "Zhzfnou26bi-",
        "outputId": "e2b3aff4-3be1-4d5f-db0c-660ebf3eb60b"
      },
      "execution_count": 17,
      "outputs": [
        {
          "output_type": "error",
          "ename": "SyntaxError",
          "evalue": "ignored",
          "traceback": [
            "\u001b[0;36m  File \u001b[0;32m\"<ipython-input-17-aea04cfad617>\"\u001b[0;36m, line \u001b[0;32m1\u001b[0m\n\u001b[0;31m    print(\"hello\u001b[0m\n\u001b[0m                ^\u001b[0m\n\u001b[0;31mSyntaxError\u001b[0m\u001b[0;31m:\u001b[0m EOL while scanning string literal\n"
          ]
        }
      ]
    },
    {
      "cell_type": "code",
      "source": [
        "strVar = 'Hello world'"
      ],
      "metadata": {
        "id": "8D0Wcto56g7A"
      },
      "execution_count": 18,
      "outputs": []
    },
    {
      "cell_type": "code",
      "source": [
        "print(strVar)"
      ],
      "metadata": {
        "colab": {
          "base_uri": "https://localhost:8080/"
        },
        "id": "QSz3mwdY6lN6",
        "outputId": "e4dcff03-1553-46fa-f3d7-92a78f3f1675"
      },
      "execution_count": 19,
      "outputs": [
        {
          "output_type": "stream",
          "name": "stdout",
          "text": [
            "Hello world\n"
          ]
        }
      ]
    },
    {
      "cell_type": "markdown",
      "source": [
        "##Boolean##"
      ],
      "metadata": {
        "id": "FKMyWFCl7R_F"
      }
    },
    {
      "cell_type": "code",
      "source": [
        "True"
      ],
      "metadata": {
        "colab": {
          "base_uri": "https://localhost:8080/"
        },
        "id": "Q-HbkSEy7UBe",
        "outputId": "ae75e0a5-4d6f-455f-a78e-6e3a7c2c285e"
      },
      "execution_count": 22,
      "outputs": [
        {
          "output_type": "execute_result",
          "data": {
            "text/plain": [
              "True"
            ]
          },
          "metadata": {},
          "execution_count": 22
        }
      ]
    },
    {
      "cell_type": "code",
      "source": [
        "False"
      ],
      "metadata": {
        "colab": {
          "base_uri": "https://localhost:8080/"
        },
        "id": "JJvns-mA7lVj",
        "outputId": "ee40b804-c42f-4bf5-8f03-58b11e96bc24"
      },
      "execution_count": 23,
      "outputs": [
        {
          "output_type": "execute_result",
          "data": {
            "text/plain": [
              "False"
            ]
          },
          "metadata": {},
          "execution_count": 23
        }
      ]
    },
    {
      "cell_type": "code",
      "source": [
        "if True:\n",
        "  print(\"this is True\")\n",
        "  print(intVar * floatVar)"
      ],
      "metadata": {
        "colab": {
          "base_uri": "https://localhost:8080/"
        },
        "id": "wcqtvCG87nFY",
        "outputId": "e336a3ab-5f2c-4d1e-f925-75729982ccde"
      },
      "execution_count": 25,
      "outputs": [
        {
          "output_type": "stream",
          "name": "stdout",
          "text": [
            "this is True\n",
            "9.0\n"
          ]
        }
      ]
    },
    {
      "cell_type": "code",
      "source": [
        "cond = intVar > floatVar"
      ],
      "metadata": {
        "id": "-95h-I0W8xE6"
      },
      "execution_count": 30,
      "outputs": []
    },
    {
      "cell_type": "code",
      "source": [
        "if cond:\n",
        "  print(\"this is True\")\n",
        "  print(intVar * floatVar)\n",
        "else:\n",
        "  print(\"condition was false\")"
      ],
      "metadata": {
        "colab": {
          "base_uri": "https://localhost:8080/"
        },
        "id": "wrWRjOXj71tl",
        "outputId": "c4efdd12-60b9-4992-dbfb-3e8de8a9f35c"
      },
      "execution_count": 31,
      "outputs": [
        {
          "output_type": "stream",
          "name": "stdout",
          "text": [
            "condition was false\n"
          ]
        }
      ]
    },
    {
      "cell_type": "code",
      "source": [
        "# == is equal?\n",
        "print(intVar == floatVar)\n",
        "# > greater ?\n",
        "print(intVar > floatVar)\n",
        "# < smaller ?\n",
        "print(intVar < floatVar)\n",
        "# != not equal\n",
        "print(intVar != floatVar)\n"
      ],
      "metadata": {
        "colab": {
          "base_uri": "https://localhost:8080/"
        },
        "id": "rCg0_94J8eIs",
        "outputId": "a3a538aa-e844-458b-ddbc-f4214562093c"
      },
      "execution_count": 32,
      "outputs": [
        {
          "output_type": "stream",
          "name": "stdout",
          "text": [
            "True\n",
            "False\n",
            "False\n",
            "False\n"
          ]
        }
      ]
    },
    {
      "cell_type": "code",
      "source": [
        "# | is logical OR\n",
        "(intVar > floatVar) | (intVar == floatVar)\n",
        "# & is logical AND\n",
        "(intVar > floatVar) & (intVar == floatVar)"
      ],
      "metadata": {
        "colab": {
          "base_uri": "https://localhost:8080/"
        },
        "id": "q2Qyv_xJ-MAK",
        "outputId": "85742809-eb7f-4077-b4b5-4f9690c384ca"
      },
      "execution_count": 34,
      "outputs": [
        {
          "output_type": "execute_result",
          "data": {
            "text/plain": [
              "False"
            ]
          },
          "metadata": {},
          "execution_count": 34
        }
      ]
    },
    {
      "cell_type": "code",
      "source": [
        "True == 1\n",
        "False == 0"
      ],
      "metadata": {
        "colab": {
          "base_uri": "https://localhost:8080/"
        },
        "id": "SsrwIndJ-VJa",
        "outputId": "4b660e83-b44a-49f0-c796-017db59a8f32"
      },
      "execution_count": 35,
      "outputs": [
        {
          "output_type": "execute_result",
          "data": {
            "text/plain": [
              "True"
            ]
          },
          "metadata": {},
          "execution_count": 35
        }
      ]
    },
    {
      "cell_type": "code",
      "source": [
        "# AND is like *\n",
        "if (intVar > floatVar) * (intVar == floatVar):\n",
        "  print(\"True\")\n",
        "else:\n",
        "  print(\"False\")\n",
        "\n",
        "# OR is like +\n",
        "if (intVar > floatVar) + (intVar == floatVar):\n",
        "  print(\"True\")\n",
        "else:\n",
        "  print(\"False\")"
      ],
      "metadata": {
        "colab": {
          "base_uri": "https://localhost:8080/"
        },
        "id": "vGTnu2dE-pri",
        "outputId": "1df6b5e5-bee0-4a79-d70f-39cc462f9d67"
      },
      "execution_count": 36,
      "outputs": [
        {
          "output_type": "stream",
          "name": "stdout",
          "text": [
            "False\n",
            "True\n"
          ]
        }
      ]
    },
    {
      "cell_type": "code",
      "source": [
        "if 2:\n",
        "  print(\"something\")"
      ],
      "metadata": {
        "colab": {
          "base_uri": "https://localhost:8080/"
        },
        "id": "lbadF_aTBa1a",
        "outputId": "e9e2e1da-c30b-43aa-f4b6-11da4a8e3129"
      },
      "execution_count": 37,
      "outputs": [
        {
          "output_type": "stream",
          "name": "stdout",
          "text": [
            "something\n"
          ]
        }
      ]
    },
    {
      "cell_type": "code",
      "source": [
        "for i in range(10):\n",
        "  print(i)"
      ],
      "metadata": {
        "colab": {
          "base_uri": "https://localhost:8080/"
        },
        "id": "vev_wfiZBjBQ",
        "outputId": "54fd7e49-20ca-46e5-c2fa-ed29cd0b2e45"
      },
      "execution_count": 38,
      "outputs": [
        {
          "output_type": "stream",
          "name": "stdout",
          "text": [
            "0\n",
            "1\n",
            "2\n",
            "3\n",
            "4\n",
            "5\n",
            "6\n",
            "7\n",
            "8\n",
            "9\n"
          ]
        }
      ]
    },
    {
      "cell_type": "code",
      "source": [
        "for i in range(1, 10):\n",
        "  print(i)"
      ],
      "metadata": {
        "colab": {
          "base_uri": "https://localhost:8080/"
        },
        "id": "EUoJeXDNB4D4",
        "outputId": "792c38bf-059f-49ed-824e-e793e33aac34"
      },
      "execution_count": 39,
      "outputs": [
        {
          "output_type": "stream",
          "name": "stdout",
          "text": [
            "1\n",
            "2\n",
            "3\n",
            "4\n",
            "5\n",
            "6\n",
            "7\n",
            "8\n",
            "9\n"
          ]
        }
      ]
    },
    {
      "cell_type": "code",
      "source": [
        "for i in range(1, 10, 3):\n",
        "  print(i)"
      ],
      "metadata": {
        "colab": {
          "base_uri": "https://localhost:8080/"
        },
        "id": "vRnieH9UCR9B",
        "outputId": "66c14281-613b-470a-edb7-a12ce3716d0d"
      },
      "execution_count": 40,
      "outputs": [
        {
          "output_type": "stream",
          "name": "stdout",
          "text": [
            "1\n",
            "4\n",
            "7\n"
          ]
        }
      ]
    },
    {
      "cell_type": "markdown",
      "source": [
        "#Variables as objects"
      ],
      "metadata": {
        "id": "wchKXs-YBV4m"
      }
    },
    {
      "cell_type": "code",
      "source": [
        "strVar = 'hello world'"
      ],
      "metadata": {
        "id": "sA0GJK6qB1qv"
      },
      "execution_count": 43,
      "outputs": []
    },
    {
      "cell_type": "code",
      "source": [
        "strVar.capitalize()"
      ],
      "metadata": {
        "colab": {
          "base_uri": "https://localhost:8080/",
          "height": 35
        },
        "id": "eS4_7iTI_eZk",
        "outputId": "d8bddc94-1d0c-46cb-a226-a4db736701c4"
      },
      "execution_count": 44,
      "outputs": [
        {
          "output_type": "execute_result",
          "data": {
            "text/plain": [
              "'Hello world'"
            ],
            "application/vnd.google.colaboratory.intrinsic+json": {
              "type": "string"
            }
          },
          "metadata": {},
          "execution_count": 44
        }
      ]
    },
    {
      "cell_type": "code",
      "source": [
        "strVar.upper()"
      ],
      "metadata": {
        "colab": {
          "base_uri": "https://localhost:8080/",
          "height": 35
        },
        "id": "GcD_CEQ1C_u8",
        "outputId": "bda4514e-2bd7-489c-89eb-f544947a0f5c"
      },
      "execution_count": 45,
      "outputs": [
        {
          "output_type": "execute_result",
          "data": {
            "text/plain": [
              "'HELLO WORLD'"
            ],
            "application/vnd.google.colaboratory.intrinsic+json": {
              "type": "string"
            }
          },
          "metadata": {},
          "execution_count": 45
        }
      ]
    },
    {
      "cell_type": "code",
      "source": [
        "strVar.isdigit()"
      ],
      "metadata": {
        "colab": {
          "base_uri": "https://localhost:8080/"
        },
        "id": "TdlRvfh5DIPk",
        "outputId": "f1dcc867-049f-47c5-b91f-fc1202274fd3"
      },
      "execution_count": 46,
      "outputs": [
        {
          "output_type": "execute_result",
          "data": {
            "text/plain": [
              "False"
            ]
          },
          "metadata": {},
          "execution_count": 46
        }
      ]
    },
    {
      "cell_type": "code",
      "source": [
        "\"3\".isdigit()"
      ],
      "metadata": {
        "colab": {
          "base_uri": "https://localhost:8080/"
        },
        "id": "3skAMPF1DMZv",
        "outputId": "3d3696c1-372a-44e9-9df2-d2d05df80370"
      },
      "execution_count": 47,
      "outputs": [
        {
          "output_type": "execute_result",
          "data": {
            "text/plain": [
              "True"
            ]
          },
          "metadata": {},
          "execution_count": 47
        }
      ]
    },
    {
      "cell_type": "code",
      "source": [
        "\"c3\".isdigit()"
      ],
      "metadata": {
        "colab": {
          "base_uri": "https://localhost:8080/"
        },
        "id": "kKd_ezDPDSgT",
        "outputId": "1ab366d5-f82e-48b8-a0b6-fa224ad5fe30"
      },
      "execution_count": 48,
      "outputs": [
        {
          "output_type": "execute_result",
          "data": {
            "text/plain": [
              "False"
            ]
          },
          "metadata": {},
          "execution_count": 48
        }
      ]
    },
    {
      "cell_type": "code",
      "source": [
        "floatVar.is_integer()"
      ],
      "metadata": {
        "colab": {
          "base_uri": "https://localhost:8080/"
        },
        "id": "78IqWmDGDV4H",
        "outputId": "93e8ba2a-cd78-4746-da79-00d2bf6bbaf5"
      },
      "execution_count": 49,
      "outputs": [
        {
          "output_type": "execute_result",
          "data": {
            "text/plain": [
              "True"
            ]
          },
          "metadata": {},
          "execution_count": 49
        }
      ]
    },
    {
      "cell_type": "markdown",
      "source": [
        "# list#"
      ],
      "metadata": {
        "id": "yw-FqDpFEfoS"
      }
    },
    {
      "cell_type": "code",
      "source": [
        "listVar = [intVar, floatVar, strVar, 0, True]\n",
        "listVar"
      ],
      "metadata": {
        "colab": {
          "base_uri": "https://localhost:8080/"
        },
        "id": "h90GbCJMDpJx",
        "outputId": "135570dd-dbe1-42c2-e866-12de9f7a296a"
      },
      "execution_count": 51,
      "outputs": [
        {
          "output_type": "execute_result",
          "data": {
            "text/plain": [
              "[3, 3.0, 'hello world', 0, True]"
            ]
          },
          "metadata": {},
          "execution_count": 51
        }
      ]
    },
    {
      "cell_type": "code",
      "source": [
        "listVar.append(11)"
      ],
      "metadata": {
        "id": "GIWZQEZ9Ev5a"
      },
      "execution_count": 52,
      "outputs": []
    },
    {
      "cell_type": "code",
      "source": [
        "listVar[0]"
      ],
      "metadata": {
        "colab": {
          "base_uri": "https://localhost:8080/"
        },
        "id": "g5jBAOy8E_gG",
        "outputId": "29cb5be1-958e-471c-d292-747cd282910e"
      },
      "execution_count": 53,
      "outputs": [
        {
          "output_type": "execute_result",
          "data": {
            "text/plain": [
              "3"
            ]
          },
          "metadata": {},
          "execution_count": 53
        }
      ]
    },
    {
      "cell_type": "code",
      "source": [
        "strVar[0]"
      ],
      "metadata": {
        "colab": {
          "base_uri": "https://localhost:8080/",
          "height": 35
        },
        "id": "1jdEoYDtFVDl",
        "outputId": "610c78b4-af24-465a-b1de-6f9c487f37e2"
      },
      "execution_count": 54,
      "outputs": [
        {
          "output_type": "execute_result",
          "data": {
            "text/plain": [
              "'h'"
            ],
            "application/vnd.google.colaboratory.intrinsic+json": {
              "type": "string"
            }
          },
          "metadata": {},
          "execution_count": 54
        }
      ]
    },
    {
      "cell_type": "code",
      "source": [
        "'h' in strVar"
      ],
      "metadata": {
        "colab": {
          "base_uri": "https://localhost:8080/"
        },
        "id": "vBuL8RymFYbl",
        "outputId": "cdf4cdd8-947d-46d3-d05c-1dff1e32a719"
      },
      "execution_count": 56,
      "outputs": [
        {
          "output_type": "execute_result",
          "data": {
            "text/plain": [
              "True"
            ]
          },
          "metadata": {},
          "execution_count": 56
        }
      ]
    },
    {
      "cell_type": "code",
      "source": [
        "64 in listVar"
      ],
      "metadata": {
        "colab": {
          "base_uri": "https://localhost:8080/"
        },
        "id": "HE9KDXcpFtaJ",
        "outputId": "6b1da595-1ca8-40f4-b72c-9a359ebd7550"
      },
      "execution_count": 57,
      "outputs": [
        {
          "output_type": "execute_result",
          "data": {
            "text/plain": [
              "False"
            ]
          },
          "metadata": {},
          "execution_count": 57
        }
      ]
    },
    {
      "cell_type": "code",
      "source": [
        "listVar[1] = 9"
      ],
      "metadata": {
        "id": "BQnDpzOLF5qT"
      },
      "execution_count": 58,
      "outputs": []
    },
    {
      "cell_type": "code",
      "source": [],
      "metadata": {
        "id": "iLNSP4OFF_UC"
      },
      "execution_count": null,
      "outputs": []
    },
    {
      "cell_type": "markdown",
      "source": [
        "##Esercizio##"
      ],
      "metadata": {
        "id": "ojEoG3E2HTiI"
      }
    },
    {
      "cell_type": "code",
      "source": [],
      "metadata": {
        "id": "AaS36D8HHWvk"
      },
      "execution_count": 66,
      "outputs": []
    },
    {
      "cell_type": "code",
      "source": [],
      "metadata": {
        "id": "UO5esI83Heiv"
      },
      "execution_count": 67,
      "outputs": []
    },
    {
      "cell_type": "code",
      "source": [],
      "metadata": {
        "colab": {
          "base_uri": "https://localhost:8080/"
        },
        "id": "iTjRjlG3HiIy",
        "outputId": "7eba8e26-1baf-4011-84f6-7c00ab7e3d43"
      },
      "execution_count": 68,
      "outputs": [
        {
          "output_type": "execute_result",
          "data": {
            "text/plain": [
              "True"
            ]
          },
          "metadata": {},
          "execution_count": 68
        }
      ]
    },
    {
      "cell_type": "code",
      "source": [
        "\n"
      ],
      "metadata": {
        "id": "0bwgaz3EHvwX"
      },
      "execution_count": 69,
      "outputs": []
    },
    {
      "cell_type": "code",
      "source": [
        "guess = \"porta\"\n"
      ],
      "metadata": {
        "colab": {
          "base_uri": "https://localhost:8080/"
        },
        "id": "y_93_XTNHx1J",
        "outputId": "8a819a27-8363-4ca5-e993-c9a039b78de6"
      },
      "execution_count": 72,
      "outputs": [
        {
          "output_type": "stream",
          "name": "stdout",
          "text": [
            "p**_a\n"
          ]
        }
      ]
    },
    {
      "cell_type": "markdown",
      "source": [
        "##Function##"
      ],
      "metadata": {
        "id": "Mw5EuhStO-AT"
      }
    },
    {
      "cell_type": "code",
      "source": [
        "def wordle(guess, target):\n",
        "  '''\n",
        "  A funciton that checks a word guess against a target\n",
        "  Input:\n",
        "    guess: a string\n",
        "  Return:\n",
        "    a string\n",
        "  '''\n",
        "  target = target.lower()\n",
        "  output = \"\"\n",
        "  guess = guess.lower()\n",
        "\n",
        "  if len(target) != len(guess):\n",
        "    print(\"lunghezza sbagliata\")\n",
        "  else:\n",
        "    for i in range(len(target)):\n",
        "      if guess[i] == target[i]:\n",
        "        output = output + guess[i]\n",
        "      elif guess[i] in target: \n",
        "        output = output + \"*\"\n",
        "      else:\n",
        "        output = output + \"_\"\n",
        "\n",
        "  return output"
      ],
      "metadata": {
        "id": "WG8NkU13PACs"
      },
      "execution_count": 88,
      "outputs": []
    },
    {
      "cell_type": "code",
      "source": [
        "wordle?"
      ],
      "metadata": {
        "id": "Uui3y0d5PrqE"
      },
      "execution_count": 74,
      "outputs": []
    },
    {
      "cell_type": "code",
      "source": [
        "wordle(\"ciao\", \"cioa\")"
      ],
      "metadata": {
        "colab": {
          "base_uri": "https://localhost:8080/",
          "height": 35
        },
        "id": "QFFaNX8uPuXR",
        "outputId": "aaca2ce9-03c5-49bf-bb7b-e9a356c4c20f"
      },
      "execution_count": 89,
      "outputs": [
        {
          "output_type": "execute_result",
          "data": {
            "text/plain": [
              "'ci**'"
            ],
            "application/vnd.google.colaboratory.intrinsic+json": {
              "type": "string"
            }
          },
          "metadata": {},
          "execution_count": 89
        }
      ]
    },
    {
      "cell_type": "code",
      "source": [],
      "metadata": {
        "id": "7Y834hYfRGIt"
      },
      "execution_count": null,
      "outputs": []
    },
    {
      "cell_type": "markdown",
      "source": [
        "##Importing packages"
      ],
      "metadata": {
        "id": "EJnobkRySXay"
      }
    },
    {
      "cell_type": "markdown",
      "source": [
        "typical packages that we will see\n",
        "### Pandas\n",
        "manipulation of tabular data\n",
        "### Numpy\n",
        "manipulation of numerical data\n",
        "### Scipy\n",
        "statistica (also stats models)\n",
        "### matplotlib (pylab)\n",
        "visualizations and plotting\n",
        "### sklearn (scikitlearn)\n",
        "machine learning\n",
        "### tensorflow\n",
        "neural networks\n"
      ],
      "metadata": {
        "id": "rhSsdBO9SgDO"
      }
    },
    {
      "cell_type": "code",
      "source": [
        "import pandas as pd\n",
        "from pandas import read_csv"
      ],
      "metadata": {
        "id": "u9cDZRN-Sebw"
      },
      "execution_count": 93,
      "outputs": []
    },
    {
      "cell_type": "code",
      "source": [
        "url = \"https://raw.githubusercontent.com/fedhere/PyBOOT/master/311_Service_Requests_from_2010_to_Present.csv\""
      ],
      "metadata": {
        "id": "_Uo4p1UZTJQd"
      },
      "execution_count": 94,
      "outputs": []
    },
    {
      "cell_type": "code",
      "source": [
        "df = pd.read_csv(url)"
      ],
      "metadata": {
        "id": "jR6IgFD8TnWf"
      },
      "execution_count": 96,
      "outputs": []
    },
    {
      "cell_type": "code",
      "source": [
        "df.shape"
      ],
      "metadata": {
        "colab": {
          "base_uri": "https://localhost:8080/"
        },
        "id": "EIPWzBEOVPqV",
        "outputId": "284dbe99-e190-4f69-bed7-750fbf1a7d20"
      },
      "execution_count": 98,
      "outputs": [
        {
          "output_type": "execute_result",
          "data": {
            "text/plain": [
              "(924, 41)"
            ]
          },
          "metadata": {},
          "execution_count": 98
        }
      ]
    },
    {
      "cell_type": "code",
      "source": [
        "df.columns"
      ],
      "metadata": {
        "colab": {
          "base_uri": "https://localhost:8080/"
        },
        "id": "pMBWp7O6VkAd",
        "outputId": "b122839e-5b6e-47ad-f7c4-c8ac3f894482"
      },
      "execution_count": 99,
      "outputs": [
        {
          "output_type": "execute_result",
          "data": {
            "text/plain": [
              "Index(['Unique Key', 'Created Date', 'Closed Date', 'Agency', 'Agency Name',\n",
              "       'Complaint Type', 'Descriptor', 'Location Type', 'Incident Zip',\n",
              "       'Incident Address', 'Street Name', 'Cross Street 1', 'Cross Street 2',\n",
              "       'Intersection Street 1', 'Intersection Street 2', 'Address Type',\n",
              "       'City', 'Landmark', 'Facility Type', 'Status', 'Due Date',\n",
              "       'Resolution Description', 'Resolution Action Updated Date',\n",
              "       'Community Board', 'BBL', 'Borough', 'X Coordinate (State Plane)',\n",
              "       'Y Coordinate (State Plane)', 'Open Data Channel Type',\n",
              "       'Park Facility Name', 'Park Borough', 'Vehicle Type',\n",
              "       'Taxi Company Borough', 'Taxi Pick Up Location', 'Bridge Highway Name',\n",
              "       'Bridge Highway Direction', 'Road Ramp', 'Bridge Highway Segment',\n",
              "       'Latitude', 'Longitude', 'Location'],\n",
              "      dtype='object')"
            ]
          },
          "metadata": {},
          "execution_count": 99
        }
      ]
    },
    {
      "cell_type": "code",
      "source": [
        "df"
      ],
      "metadata": {
        "colab": {
          "base_uri": "https://localhost:8080/",
          "height": 870
        },
        "id": "GzLxVC39V4y2",
        "outputId": "51c3f67e-c956-411d-f921-bcedc274e5b5"
      },
      "execution_count": 100,
      "outputs": [
        {
          "output_type": "execute_result",
          "data": {
            "text/plain": [
              "     Unique Key            Created Date             Closed Date Agency  \\\n",
              "0      54049402  05/01/2022 12:00:03 AM                     NaN   NYPD   \n",
              "1      54046813  05/01/2022 12:00:09 AM  05/01/2022 12:07:46 AM   NYPD   \n",
              "2      54045643  05/01/2022 12:00:17 AM  05/01/2022 12:10:38 AM   NYPD   \n",
              "3      54051838  05/01/2022 12:00:21 AM  05/01/2022 12:53:23 AM   NYPD   \n",
              "4      54052808  05/01/2022 12:00:25 AM  05/01/2022 01:01:47 AM   NYPD   \n",
              "..          ...                     ...                     ...    ...   \n",
              "919    54049386  05/01/2022 02:04:45 AM                     NaN   NYPD   \n",
              "920    54049413  05/01/2022 02:05:35 AM                     NaN   NYPD   \n",
              "921    54052476  05/01/2022 02:05:38 AM                     NaN   NYPD   \n",
              "922    54053504  05/01/2022 02:06:13 AM                     NaN   NYPD   \n",
              "923    54048300  05/01/2022 02:06:26 AM                     NaN   NYPD   \n",
              "\n",
              "                         Agency Name           Complaint Type  \\\n",
              "0    New York City Police Department      Noise - Residential   \n",
              "1    New York City Police Department  Noise - Street/Sidewalk   \n",
              "2    New York City Police Department      Noise - Residential   \n",
              "3    New York City Police Department         Blocked Driveway   \n",
              "4    New York City Police Department          Illegal Parking   \n",
              "..                               ...                      ...   \n",
              "919  New York City Police Department      Noise - Residential   \n",
              "920  New York City Police Department  Noise - Street/Sidewalk   \n",
              "921  New York City Police Department      Noise - Residential   \n",
              "922  New York City Police Department          Illegal Parking   \n",
              "923  New York City Police Department          Noise - Vehicle   \n",
              "\n",
              "                       Descriptor               Location Type  Incident Zip  \\\n",
              "0                Loud Music/Party  Residential Building/House       10452.0   \n",
              "1                Loud Music/Party             Street/Sidewalk       10027.0   \n",
              "2                Loud Music/Party  Residential Building/House       10033.0   \n",
              "3                  Partial Access             Street/Sidewalk       11214.0   \n",
              "4    Commercial Overnight Parking             Street/Sidewalk       10304.0   \n",
              "..                            ...                         ...           ...   \n",
              "919              Loud Music/Party  Residential Building/House       10031.0   \n",
              "920              Loud Music/Party             Street/Sidewalk       11231.0   \n",
              "921              Loud Music/Party  Residential Building/House       11208.0   \n",
              "922  Overnight Commercial Storage             Street/Sidewalk       11373.0   \n",
              "923               Car/Truck Music             Street/Sidewalk       11210.0   \n",
              "\n",
              "             Incident Address  ... Vehicle Type Taxi Company Borough  \\\n",
              "0          1006 GERARD AVENUE  ...          NaN                  NaN   \n",
              "1        364 WEST  127 STREET  ...          NaN                  NaN   \n",
              "2    593 FT WASHINGTON AVENUE  ...          NaN                  NaN   \n",
              "3              8106 17 AVENUE  ...          NaN                  NaN   \n",
              "4           935 TARGEE STREET  ...          NaN                  NaN   \n",
              "..                        ...  ...          ...                  ...   \n",
              "919      514 WEST  136 STREET  ...          NaN                  NaN   \n",
              "920       151 RICHARDS STREET  ...          NaN                  NaN   \n",
              "921         37 HEMLOCK STREET  ...          NaN                  NaN   \n",
              "922        60-42 BOOTH STREET  ...          NaN                  NaN   \n",
              "923      723 EAST   27 STREET  ...          NaN                  NaN   \n",
              "\n",
              "    Taxi Pick Up Location Bridge Highway Name Bridge Highway Direction  \\\n",
              "0                     NaN                 NaN                      NaN   \n",
              "1                     NaN                 NaN                      NaN   \n",
              "2                     NaN                 NaN                      NaN   \n",
              "3                     NaN                 NaN                      NaN   \n",
              "4                     NaN                 NaN                      NaN   \n",
              "..                    ...                 ...                      ...   \n",
              "919                   NaN                 NaN                      NaN   \n",
              "920                   NaN                 NaN                      NaN   \n",
              "921                   NaN                 NaN                      NaN   \n",
              "922                   NaN                 NaN                      NaN   \n",
              "923                   NaN                 NaN                      NaN   \n",
              "\n",
              "    Road Ramp Bridge Highway Segment   Latitude  Longitude  \\\n",
              "0         NaN                    NaN  40.830653 -73.923082   \n",
              "1         NaN                    NaN  40.812378 -73.952401   \n",
              "2         NaN                    NaN  40.854714 -73.937026   \n",
              "3         NaN                    NaN  40.611332 -74.002028   \n",
              "4         NaN                    NaN  40.605614 -74.090992   \n",
              "..        ...                    ...        ...        ...   \n",
              "919       NaN                    NaN  40.820160 -73.953158   \n",
              "920       NaN                    NaN  40.676566 -74.011100   \n",
              "921       NaN                    NaN  40.688911 -73.872353   \n",
              "922       NaN                    NaN  40.731194 -73.869533   \n",
              "923       NaN                    NaN  40.633076 -73.950965   \n",
              "\n",
              "                                     Location  \n",
              "0     (40.83065331987539, -73.92308231033165)  \n",
              "1     (40.81237834836466, -73.95240115039357)  \n",
              "2    (40.854713655427595, -73.93702585036192)  \n",
              "3    (40.611331690801165, -74.00202773560115)  \n",
              "4    (40.605613964168455, -74.09099181031843)  \n",
              "..                                        ...  \n",
              "919   (40.82015993990901, -73.95315791994004)  \n",
              "920    (40.6765664690211, -74.01110036402942)  \n",
              "921   (40.68891081481749, -73.87235278581583)  \n",
              "922   (40.73119351356087, -73.86953320857873)  \n",
              "923  (40.633076468003175, -73.95096540810518)  \n",
              "\n",
              "[924 rows x 41 columns]"
            ],
            "text/html": [
              "\n",
              "  <div id=\"df-eec7ddad-5ce7-4d15-b6ff-af799dd5e3b6\">\n",
              "    <div class=\"colab-df-container\">\n",
              "      <div>\n",
              "<style scoped>\n",
              "    .dataframe tbody tr th:only-of-type {\n",
              "        vertical-align: middle;\n",
              "    }\n",
              "\n",
              "    .dataframe tbody tr th {\n",
              "        vertical-align: top;\n",
              "    }\n",
              "\n",
              "    .dataframe thead th {\n",
              "        text-align: right;\n",
              "    }\n",
              "</style>\n",
              "<table border=\"1\" class=\"dataframe\">\n",
              "  <thead>\n",
              "    <tr style=\"text-align: right;\">\n",
              "      <th></th>\n",
              "      <th>Unique Key</th>\n",
              "      <th>Created Date</th>\n",
              "      <th>Closed Date</th>\n",
              "      <th>Agency</th>\n",
              "      <th>Agency Name</th>\n",
              "      <th>Complaint Type</th>\n",
              "      <th>Descriptor</th>\n",
              "      <th>Location Type</th>\n",
              "      <th>Incident Zip</th>\n",
              "      <th>Incident Address</th>\n",
              "      <th>...</th>\n",
              "      <th>Vehicle Type</th>\n",
              "      <th>Taxi Company Borough</th>\n",
              "      <th>Taxi Pick Up Location</th>\n",
              "      <th>Bridge Highway Name</th>\n",
              "      <th>Bridge Highway Direction</th>\n",
              "      <th>Road Ramp</th>\n",
              "      <th>Bridge Highway Segment</th>\n",
              "      <th>Latitude</th>\n",
              "      <th>Longitude</th>\n",
              "      <th>Location</th>\n",
              "    </tr>\n",
              "  </thead>\n",
              "  <tbody>\n",
              "    <tr>\n",
              "      <th>0</th>\n",
              "      <td>54049402</td>\n",
              "      <td>05/01/2022 12:00:03 AM</td>\n",
              "      <td>NaN</td>\n",
              "      <td>NYPD</td>\n",
              "      <td>New York City Police Department</td>\n",
              "      <td>Noise - Residential</td>\n",
              "      <td>Loud Music/Party</td>\n",
              "      <td>Residential Building/House</td>\n",
              "      <td>10452.0</td>\n",
              "      <td>1006 GERARD AVENUE</td>\n",
              "      <td>...</td>\n",
              "      <td>NaN</td>\n",
              "      <td>NaN</td>\n",
              "      <td>NaN</td>\n",
              "      <td>NaN</td>\n",
              "      <td>NaN</td>\n",
              "      <td>NaN</td>\n",
              "      <td>NaN</td>\n",
              "      <td>40.830653</td>\n",
              "      <td>-73.923082</td>\n",
              "      <td>(40.83065331987539, -73.92308231033165)</td>\n",
              "    </tr>\n",
              "    <tr>\n",
              "      <th>1</th>\n",
              "      <td>54046813</td>\n",
              "      <td>05/01/2022 12:00:09 AM</td>\n",
              "      <td>05/01/2022 12:07:46 AM</td>\n",
              "      <td>NYPD</td>\n",
              "      <td>New York City Police Department</td>\n",
              "      <td>Noise - Street/Sidewalk</td>\n",
              "      <td>Loud Music/Party</td>\n",
              "      <td>Street/Sidewalk</td>\n",
              "      <td>10027.0</td>\n",
              "      <td>364 WEST  127 STREET</td>\n",
              "      <td>...</td>\n",
              "      <td>NaN</td>\n",
              "      <td>NaN</td>\n",
              "      <td>NaN</td>\n",
              "      <td>NaN</td>\n",
              "      <td>NaN</td>\n",
              "      <td>NaN</td>\n",
              "      <td>NaN</td>\n",
              "      <td>40.812378</td>\n",
              "      <td>-73.952401</td>\n",
              "      <td>(40.81237834836466, -73.95240115039357)</td>\n",
              "    </tr>\n",
              "    <tr>\n",
              "      <th>2</th>\n",
              "      <td>54045643</td>\n",
              "      <td>05/01/2022 12:00:17 AM</td>\n",
              "      <td>05/01/2022 12:10:38 AM</td>\n",
              "      <td>NYPD</td>\n",
              "      <td>New York City Police Department</td>\n",
              "      <td>Noise - Residential</td>\n",
              "      <td>Loud Music/Party</td>\n",
              "      <td>Residential Building/House</td>\n",
              "      <td>10033.0</td>\n",
              "      <td>593 FT WASHINGTON AVENUE</td>\n",
              "      <td>...</td>\n",
              "      <td>NaN</td>\n",
              "      <td>NaN</td>\n",
              "      <td>NaN</td>\n",
              "      <td>NaN</td>\n",
              "      <td>NaN</td>\n",
              "      <td>NaN</td>\n",
              "      <td>NaN</td>\n",
              "      <td>40.854714</td>\n",
              "      <td>-73.937026</td>\n",
              "      <td>(40.854713655427595, -73.93702585036192)</td>\n",
              "    </tr>\n",
              "    <tr>\n",
              "      <th>3</th>\n",
              "      <td>54051838</td>\n",
              "      <td>05/01/2022 12:00:21 AM</td>\n",
              "      <td>05/01/2022 12:53:23 AM</td>\n",
              "      <td>NYPD</td>\n",
              "      <td>New York City Police Department</td>\n",
              "      <td>Blocked Driveway</td>\n",
              "      <td>Partial Access</td>\n",
              "      <td>Street/Sidewalk</td>\n",
              "      <td>11214.0</td>\n",
              "      <td>8106 17 AVENUE</td>\n",
              "      <td>...</td>\n",
              "      <td>NaN</td>\n",
              "      <td>NaN</td>\n",
              "      <td>NaN</td>\n",
              "      <td>NaN</td>\n",
              "      <td>NaN</td>\n",
              "      <td>NaN</td>\n",
              "      <td>NaN</td>\n",
              "      <td>40.611332</td>\n",
              "      <td>-74.002028</td>\n",
              "      <td>(40.611331690801165, -74.00202773560115)</td>\n",
              "    </tr>\n",
              "    <tr>\n",
              "      <th>4</th>\n",
              "      <td>54052808</td>\n",
              "      <td>05/01/2022 12:00:25 AM</td>\n",
              "      <td>05/01/2022 01:01:47 AM</td>\n",
              "      <td>NYPD</td>\n",
              "      <td>New York City Police Department</td>\n",
              "      <td>Illegal Parking</td>\n",
              "      <td>Commercial Overnight Parking</td>\n",
              "      <td>Street/Sidewalk</td>\n",
              "      <td>10304.0</td>\n",
              "      <td>935 TARGEE STREET</td>\n",
              "      <td>...</td>\n",
              "      <td>NaN</td>\n",
              "      <td>NaN</td>\n",
              "      <td>NaN</td>\n",
              "      <td>NaN</td>\n",
              "      <td>NaN</td>\n",
              "      <td>NaN</td>\n",
              "      <td>NaN</td>\n",
              "      <td>40.605614</td>\n",
              "      <td>-74.090992</td>\n",
              "      <td>(40.605613964168455, -74.09099181031843)</td>\n",
              "    </tr>\n",
              "    <tr>\n",
              "      <th>...</th>\n",
              "      <td>...</td>\n",
              "      <td>...</td>\n",
              "      <td>...</td>\n",
              "      <td>...</td>\n",
              "      <td>...</td>\n",
              "      <td>...</td>\n",
              "      <td>...</td>\n",
              "      <td>...</td>\n",
              "      <td>...</td>\n",
              "      <td>...</td>\n",
              "      <td>...</td>\n",
              "      <td>...</td>\n",
              "      <td>...</td>\n",
              "      <td>...</td>\n",
              "      <td>...</td>\n",
              "      <td>...</td>\n",
              "      <td>...</td>\n",
              "      <td>...</td>\n",
              "      <td>...</td>\n",
              "      <td>...</td>\n",
              "      <td>...</td>\n",
              "    </tr>\n",
              "    <tr>\n",
              "      <th>919</th>\n",
              "      <td>54049386</td>\n",
              "      <td>05/01/2022 02:04:45 AM</td>\n",
              "      <td>NaN</td>\n",
              "      <td>NYPD</td>\n",
              "      <td>New York City Police Department</td>\n",
              "      <td>Noise - Residential</td>\n",
              "      <td>Loud Music/Party</td>\n",
              "      <td>Residential Building/House</td>\n",
              "      <td>10031.0</td>\n",
              "      <td>514 WEST  136 STREET</td>\n",
              "      <td>...</td>\n",
              "      <td>NaN</td>\n",
              "      <td>NaN</td>\n",
              "      <td>NaN</td>\n",
              "      <td>NaN</td>\n",
              "      <td>NaN</td>\n",
              "      <td>NaN</td>\n",
              "      <td>NaN</td>\n",
              "      <td>40.820160</td>\n",
              "      <td>-73.953158</td>\n",
              "      <td>(40.82015993990901, -73.95315791994004)</td>\n",
              "    </tr>\n",
              "    <tr>\n",
              "      <th>920</th>\n",
              "      <td>54049413</td>\n",
              "      <td>05/01/2022 02:05:35 AM</td>\n",
              "      <td>NaN</td>\n",
              "      <td>NYPD</td>\n",
              "      <td>New York City Police Department</td>\n",
              "      <td>Noise - Street/Sidewalk</td>\n",
              "      <td>Loud Music/Party</td>\n",
              "      <td>Street/Sidewalk</td>\n",
              "      <td>11231.0</td>\n",
              "      <td>151 RICHARDS STREET</td>\n",
              "      <td>...</td>\n",
              "      <td>NaN</td>\n",
              "      <td>NaN</td>\n",
              "      <td>NaN</td>\n",
              "      <td>NaN</td>\n",
              "      <td>NaN</td>\n",
              "      <td>NaN</td>\n",
              "      <td>NaN</td>\n",
              "      <td>40.676566</td>\n",
              "      <td>-74.011100</td>\n",
              "      <td>(40.6765664690211, -74.01110036402942)</td>\n",
              "    </tr>\n",
              "    <tr>\n",
              "      <th>921</th>\n",
              "      <td>54052476</td>\n",
              "      <td>05/01/2022 02:05:38 AM</td>\n",
              "      <td>NaN</td>\n",
              "      <td>NYPD</td>\n",
              "      <td>New York City Police Department</td>\n",
              "      <td>Noise - Residential</td>\n",
              "      <td>Loud Music/Party</td>\n",
              "      <td>Residential Building/House</td>\n",
              "      <td>11208.0</td>\n",
              "      <td>37 HEMLOCK STREET</td>\n",
              "      <td>...</td>\n",
              "      <td>NaN</td>\n",
              "      <td>NaN</td>\n",
              "      <td>NaN</td>\n",
              "      <td>NaN</td>\n",
              "      <td>NaN</td>\n",
              "      <td>NaN</td>\n",
              "      <td>NaN</td>\n",
              "      <td>40.688911</td>\n",
              "      <td>-73.872353</td>\n",
              "      <td>(40.68891081481749, -73.87235278581583)</td>\n",
              "    </tr>\n",
              "    <tr>\n",
              "      <th>922</th>\n",
              "      <td>54053504</td>\n",
              "      <td>05/01/2022 02:06:13 AM</td>\n",
              "      <td>NaN</td>\n",
              "      <td>NYPD</td>\n",
              "      <td>New York City Police Department</td>\n",
              "      <td>Illegal Parking</td>\n",
              "      <td>Overnight Commercial Storage</td>\n",
              "      <td>Street/Sidewalk</td>\n",
              "      <td>11373.0</td>\n",
              "      <td>60-42 BOOTH STREET</td>\n",
              "      <td>...</td>\n",
              "      <td>NaN</td>\n",
              "      <td>NaN</td>\n",
              "      <td>NaN</td>\n",
              "      <td>NaN</td>\n",
              "      <td>NaN</td>\n",
              "      <td>NaN</td>\n",
              "      <td>NaN</td>\n",
              "      <td>40.731194</td>\n",
              "      <td>-73.869533</td>\n",
              "      <td>(40.73119351356087, -73.86953320857873)</td>\n",
              "    </tr>\n",
              "    <tr>\n",
              "      <th>923</th>\n",
              "      <td>54048300</td>\n",
              "      <td>05/01/2022 02:06:26 AM</td>\n",
              "      <td>NaN</td>\n",
              "      <td>NYPD</td>\n",
              "      <td>New York City Police Department</td>\n",
              "      <td>Noise - Vehicle</td>\n",
              "      <td>Car/Truck Music</td>\n",
              "      <td>Street/Sidewalk</td>\n",
              "      <td>11210.0</td>\n",
              "      <td>723 EAST   27 STREET</td>\n",
              "      <td>...</td>\n",
              "      <td>NaN</td>\n",
              "      <td>NaN</td>\n",
              "      <td>NaN</td>\n",
              "      <td>NaN</td>\n",
              "      <td>NaN</td>\n",
              "      <td>NaN</td>\n",
              "      <td>NaN</td>\n",
              "      <td>40.633076</td>\n",
              "      <td>-73.950965</td>\n",
              "      <td>(40.633076468003175, -73.95096540810518)</td>\n",
              "    </tr>\n",
              "  </tbody>\n",
              "</table>\n",
              "<p>924 rows × 41 columns</p>\n",
              "</div>\n",
              "      <button class=\"colab-df-convert\" onclick=\"convertToInteractive('df-eec7ddad-5ce7-4d15-b6ff-af799dd5e3b6')\"\n",
              "              title=\"Convert this dataframe to an interactive table.\"\n",
              "              style=\"display:none;\">\n",
              "        \n",
              "  <svg xmlns=\"http://www.w3.org/2000/svg\" height=\"24px\"viewBox=\"0 0 24 24\"\n",
              "       width=\"24px\">\n",
              "    <path d=\"M0 0h24v24H0V0z\" fill=\"none\"/>\n",
              "    <path d=\"M18.56 5.44l.94 2.06.94-2.06 2.06-.94-2.06-.94-.94-2.06-.94 2.06-2.06.94zm-11 1L8.5 8.5l.94-2.06 2.06-.94-2.06-.94L8.5 2.5l-.94 2.06-2.06.94zm10 10l.94 2.06.94-2.06 2.06-.94-2.06-.94-.94-2.06-.94 2.06-2.06.94z\"/><path d=\"M17.41 7.96l-1.37-1.37c-.4-.4-.92-.59-1.43-.59-.52 0-1.04.2-1.43.59L10.3 9.45l-7.72 7.72c-.78.78-.78 2.05 0 2.83L4 21.41c.39.39.9.59 1.41.59.51 0 1.02-.2 1.41-.59l7.78-7.78 2.81-2.81c.8-.78.8-2.07 0-2.86zM5.41 20L4 18.59l7.72-7.72 1.47 1.35L5.41 20z\"/>\n",
              "  </svg>\n",
              "      </button>\n",
              "      \n",
              "  <style>\n",
              "    .colab-df-container {\n",
              "      display:flex;\n",
              "      flex-wrap:wrap;\n",
              "      gap: 12px;\n",
              "    }\n",
              "\n",
              "    .colab-df-convert {\n",
              "      background-color: #E8F0FE;\n",
              "      border: none;\n",
              "      border-radius: 50%;\n",
              "      cursor: pointer;\n",
              "      display: none;\n",
              "      fill: #1967D2;\n",
              "      height: 32px;\n",
              "      padding: 0 0 0 0;\n",
              "      width: 32px;\n",
              "    }\n",
              "\n",
              "    .colab-df-convert:hover {\n",
              "      background-color: #E2EBFA;\n",
              "      box-shadow: 0px 1px 2px rgba(60, 64, 67, 0.3), 0px 1px 3px 1px rgba(60, 64, 67, 0.15);\n",
              "      fill: #174EA6;\n",
              "    }\n",
              "\n",
              "    [theme=dark] .colab-df-convert {\n",
              "      background-color: #3B4455;\n",
              "      fill: #D2E3FC;\n",
              "    }\n",
              "\n",
              "    [theme=dark] .colab-df-convert:hover {\n",
              "      background-color: #434B5C;\n",
              "      box-shadow: 0px 1px 3px 1px rgba(0, 0, 0, 0.15);\n",
              "      filter: drop-shadow(0px 1px 2px rgba(0, 0, 0, 0.3));\n",
              "      fill: #FFFFFF;\n",
              "    }\n",
              "  </style>\n",
              "\n",
              "      <script>\n",
              "        const buttonEl =\n",
              "          document.querySelector('#df-eec7ddad-5ce7-4d15-b6ff-af799dd5e3b6 button.colab-df-convert');\n",
              "        buttonEl.style.display =\n",
              "          google.colab.kernel.accessAllowed ? 'block' : 'none';\n",
              "\n",
              "        async function convertToInteractive(key) {\n",
              "          const element = document.querySelector('#df-eec7ddad-5ce7-4d15-b6ff-af799dd5e3b6');\n",
              "          const dataTable =\n",
              "            await google.colab.kernel.invokeFunction('convertToInteractive',\n",
              "                                                     [key], {});\n",
              "          if (!dataTable) return;\n",
              "\n",
              "          const docLinkHtml = 'Like what you see? Visit the ' +\n",
              "            '<a target=\"_blank\" href=https://colab.research.google.com/notebooks/data_table.ipynb>data table notebook</a>'\n",
              "            + ' to learn more about interactive tables.';\n",
              "          element.innerHTML = '';\n",
              "          dataTable['output_type'] = 'display_data';\n",
              "          await google.colab.output.renderOutput(dataTable, element);\n",
              "          const docLink = document.createElement('div');\n",
              "          docLink.innerHTML = docLinkHtml;\n",
              "          element.appendChild(docLink);\n",
              "        }\n",
              "      </script>\n",
              "    </div>\n",
              "  </div>\n",
              "  "
            ]
          },
          "metadata": {},
          "execution_count": 100
        }
      ]
    },
    {
      "cell_type": "code",
      "source": [
        "#estraggo la prima riga\n",
        "df.iloc[0]"
      ],
      "metadata": {
        "colab": {
          "base_uri": "https://localhost:8080/"
        },
        "id": "19GCnsndWXSU",
        "outputId": "cf2f113f-a700-41a7-d1b4-287b3c63340f"
      },
      "execution_count": 102,
      "outputs": [
        {
          "output_type": "execute_result",
          "data": {
            "text/plain": [
              "Unique Key                                                       54049402\n",
              "Created Date                                       05/01/2022 12:00:03 AM\n",
              "Closed Date                                                           NaN\n",
              "Agency                                                               NYPD\n",
              "Agency Name                               New York City Police Department\n",
              "Complaint Type                                        Noise - Residential\n",
              "Descriptor                                               Loud Music/Party\n",
              "Location Type                                  Residential Building/House\n",
              "Incident Zip                                                      10452.0\n",
              "Incident Address                                       1006 GERARD AVENUE\n",
              "Street Name                                                 GERARD AVENUE\n",
              "Cross Street 1                                           EAST  164 STREET\n",
              "Cross Street 2                                           EAST  165 STREET\n",
              "Intersection Street 1                                    EAST  164 STREET\n",
              "Intersection Street 2                                    EAST  165 STREET\n",
              "Address Type                                                      ADDRESS\n",
              "City                                                                BRONX\n",
              "Landmark                                                    GERARD AVENUE\n",
              "Facility Type                                                         NaN\n",
              "Status                                                        In Progress\n",
              "Due Date                                                              NaN\n",
              "Resolution Description                                                NaN\n",
              "Resolution Action Updated Date                                        NaN\n",
              "Community Board                                                  04 BRONX\n",
              "BBL                                                          2024770001.0\n",
              "Borough                                                             BRONX\n",
              "X Coordinate (State Plane)                                      1005536.0\n",
              "Y Coordinate (State Plane)                                       241916.0\n",
              "Open Data Channel Type                                             ONLINE\n",
              "Park Facility Name                                            Unspecified\n",
              "Park Borough                                                        BRONX\n",
              "Vehicle Type                                                          NaN\n",
              "Taxi Company Borough                                                  NaN\n",
              "Taxi Pick Up Location                                                 NaN\n",
              "Bridge Highway Name                                                   NaN\n",
              "Bridge Highway Direction                                              NaN\n",
              "Road Ramp                                                             NaN\n",
              "Bridge Highway Segment                                                NaN\n",
              "Latitude                                                        40.830653\n",
              "Longitude                                                      -73.923082\n",
              "Location                          (40.83065331987539, -73.92308231033165)\n",
              "Name: 0, dtype: object"
            ]
          },
          "metadata": {},
          "execution_count": 102
        }
      ]
    },
    {
      "cell_type": "code",
      "source": [
        "df.iloc[:, 0]"
      ],
      "metadata": {
        "colab": {
          "base_uri": "https://localhost:8080/"
        },
        "id": "jSpQgo9bWlVB",
        "outputId": "75b9d70e-55f4-4ece-f8a0-e0e76ef265b7"
      },
      "execution_count": 103,
      "outputs": [
        {
          "output_type": "execute_result",
          "data": {
            "text/plain": [
              "0      54049402\n",
              "1      54046813\n",
              "2      54045643\n",
              "3      54051838\n",
              "4      54052808\n",
              "         ...   \n",
              "919    54049386\n",
              "920    54049413\n",
              "921    54052476\n",
              "922    54053504\n",
              "923    54048300\n",
              "Name: Unique Key, Length: 924, dtype: int64"
            ]
          },
          "metadata": {},
          "execution_count": 103
        }
      ]
    },
    {
      "cell_type": "code",
      "source": [
        "df.loc[:, 'Created Date']"
      ],
      "metadata": {
        "colab": {
          "base_uri": "https://localhost:8080/"
        },
        "id": "iQyFV3m6W94M",
        "outputId": "7fdd2290-b721-4ea0-f5ba-51c54b9364d4"
      },
      "execution_count": 107,
      "outputs": [
        {
          "output_type": "execute_result",
          "data": {
            "text/plain": [
              "0      05/01/2022 12:00:03 AM\n",
              "1      05/01/2022 12:00:09 AM\n",
              "2      05/01/2022 12:00:17 AM\n",
              "3      05/01/2022 12:00:21 AM\n",
              "4      05/01/2022 12:00:25 AM\n",
              "                ...          \n",
              "919    05/01/2022 02:04:45 AM\n",
              "920    05/01/2022 02:05:35 AM\n",
              "921    05/01/2022 02:05:38 AM\n",
              "922    05/01/2022 02:06:13 AM\n",
              "923    05/01/2022 02:06:26 AM\n",
              "Name: Created Date, Length: 924, dtype: object"
            ]
          },
          "metadata": {},
          "execution_count": 107
        }
      ]
    },
    {
      "cell_type": "code",
      "source": [
        "url2 = \"https://raw.githubusercontent.com/fedhere/UInotebooks/master/dataWrangling/movies.dat\""
      ],
      "metadata": {
        "id": "4x4-b-YEXDVa"
      },
      "execution_count": 108,
      "outputs": []
    },
    {
      "cell_type": "code",
      "source": [
        "colnames = [\"title\", \"genre\"]\n",
        "movies = pd.read_csv(url2, sep = \"::\", index_col= 0, header = None, names = colnames)"
      ],
      "metadata": {
        "colab": {
          "base_uri": "https://localhost:8080/"
        },
        "id": "j_kTPqYyXk_Y",
        "outputId": "413529ba-6bee-439a-c7d1-69888ec0bb08"
      },
      "execution_count": 115,
      "outputs": [
        {
          "output_type": "stream",
          "name": "stderr",
          "text": [
            "/usr/local/lib/python3.9/dist-packages/pandas/util/_decorators.py:311: ParserWarning: Falling back to the 'python' engine because the 'c' engine does not support regex separators (separators > 1 char and different from '\\s+' are interpreted as regex); you can avoid this warning by specifying engine='python'.\n",
            "  return func(*args, **kwargs)\n"
          ]
        }
      ]
    },
    {
      "cell_type": "code",
      "source": [
        "type(df)"
      ],
      "metadata": {
        "colab": {
          "base_uri": "https://localhost:8080/"
        },
        "id": "jLEgtmPyXyVN",
        "outputId": "b86e8919-24f5-49f7-8682-e253de39ec60"
      },
      "execution_count": 113,
      "outputs": [
        {
          "output_type": "execute_result",
          "data": {
            "text/plain": [
              "pandas.core.frame.DataFrame"
            ]
          },
          "metadata": {},
          "execution_count": 113
        }
      ]
    },
    {
      "cell_type": "code",
      "source": [
        "movies[\"title\"]\n"
      ],
      "metadata": {
        "colab": {
          "base_uri": "https://localhost:8080/"
        },
        "id": "3LEaHneuYq9l",
        "outputId": "50727002-1a7e-41e7-8956-2daec59ad159"
      },
      "execution_count": 117,
      "outputs": [
        {
          "output_type": "execute_result",
          "data": {
            "text/plain": [
              "1                         Toy Story (1995)\n",
              "2                           Jumanji (1995)\n",
              "3                  Grumpier Old Men (1995)\n",
              "4                 Waiting to Exhale (1995)\n",
              "5       Father of the Bride Part II (1995)\n",
              "                       ...                \n",
              "3948               Meet the Parents (2000)\n",
              "3949            Requiem for a Dream (2000)\n",
              "3950                      Tigerland (2000)\n",
              "3951               Two Family House (2000)\n",
              "3952                 Contender, The (2000)\n",
              "Name: title, Length: 3883, dtype: object"
            ]
          },
          "metadata": {},
          "execution_count": 117
        }
      ]
    },
    {
      "cell_type": "code",
      "source": [
        "movies.loc[:, \"title\"]"
      ],
      "metadata": {
        "colab": {
          "base_uri": "https://localhost:8080/"
        },
        "id": "fDaPO4uuZJxk",
        "outputId": "fdf46ae4-e4b4-4656-e775-562a2fa91668"
      },
      "execution_count": 119,
      "outputs": [
        {
          "output_type": "execute_result",
          "data": {
            "text/plain": [
              "1                         Toy Story (1995)\n",
              "2                           Jumanji (1995)\n",
              "3                  Grumpier Old Men (1995)\n",
              "4                 Waiting to Exhale (1995)\n",
              "5       Father of the Bride Part II (1995)\n",
              "                       ...                \n",
              "3948               Meet the Parents (2000)\n",
              "3949            Requiem for a Dream (2000)\n",
              "3950                      Tigerland (2000)\n",
              "3951               Two Family House (2000)\n",
              "3952                 Contender, The (2000)\n",
              "Name: title, Length: 3883, dtype: object"
            ]
          },
          "metadata": {},
          "execution_count": 119
        }
      ]
    },
    {
      "cell_type": "code",
      "source": [
        "len(movies[\"genre\"].unique())"
      ],
      "metadata": {
        "colab": {
          "base_uri": "https://localhost:8080/"
        },
        "id": "z8f_BKkqZYx6",
        "outputId": "4997d6b1-2dec-4394-a438-d88391cd20e2"
      },
      "execution_count": 121,
      "outputs": [
        {
          "output_type": "execute_result",
          "data": {
            "text/plain": [
              "301"
            ]
          },
          "metadata": {},
          "execution_count": 121
        }
      ]
    },
    {
      "cell_type": "code",
      "source": [
        "\"Toy Story (1995)\".split()[-1].replace(\"(\", \"\").strip(\")\")"
      ],
      "metadata": {
        "colab": {
          "base_uri": "https://localhost:8080/",
          "height": 35
        },
        "id": "C02ruaUpZiMU",
        "outputId": "a7e8745e-056d-429c-ff33-9ca6f85b4633"
      },
      "execution_count": 124,
      "outputs": [
        {
          "output_type": "execute_result",
          "data": {
            "text/plain": [
              "'1995'"
            ],
            "application/vnd.google.colaboratory.intrinsic+json": {
              "type": "string"
            }
          },
          "metadata": {},
          "execution_count": 124
        }
      ]
    },
    {
      "cell_type": "code",
      "source": [
        "def get_year(mtitle):\n",
        "  '''\n",
        "  non la scrivo per briga\n",
        "  '''\n",
        "  return int(mtitle.split(\"(\")[-1].replace(\"(\", \"\").strip(\")\"))"
      ],
      "metadata": {
        "id": "VEe-a2McZ2Jf"
      },
      "execution_count": 127,
      "outputs": []
    },
    {
      "cell_type": "code",
      "source": [
        "movies[\"year\"] = movies[\"title\"].map(get_year)"
      ],
      "metadata": {
        "id": "XzqcgXbdblah"
      },
      "execution_count": 129,
      "outputs": []
    },
    {
      "cell_type": "code",
      "source": [
        "movies[\"title\"].map(get_year)"
      ],
      "metadata": {
        "colab": {
          "base_uri": "https://localhost:8080/"
        },
        "id": "GZCuGEW5ayVj",
        "outputId": "a6a2b72f-5906-4db7-9a5c-33b98dc0282e"
      },
      "execution_count": 128,
      "outputs": [
        {
          "output_type": "execute_result",
          "data": {
            "text/plain": [
              "1       1995\n",
              "2       1995\n",
              "3       1995\n",
              "4       1995\n",
              "5       1995\n",
              "        ... \n",
              "3948    2000\n",
              "3949    2000\n",
              "3950    2000\n",
              "3951    2000\n",
              "3952    2000\n",
              "Name: title, Length: 3883, dtype: int64"
            ]
          },
          "metadata": {},
          "execution_count": 128
        }
      ]
    },
    {
      "cell_type": "code",
      "source": [
        "movies.groupby(\"year\").count()"
      ],
      "metadata": {
        "colab": {
          "base_uri": "https://localhost:8080/",
          "height": 455
        },
        "id": "1Gz7A-TwbD7W",
        "outputId": "a9d2f412-e7d6-4987-bca6-64b57c14dc1d"
      },
      "execution_count": 130,
      "outputs": [
        {
          "output_type": "execute_result",
          "data": {
            "text/plain": [
              "      title  genre\n",
              "year              \n",
              "1919      3      3\n",
              "1920      2      2\n",
              "1921      1      1\n",
              "1922      2      2\n",
              "1923      3      3\n",
              "...     ...    ...\n",
              "1996    345    345\n",
              "1997    315    315\n",
              "1998    337    337\n",
              "1999    283    283\n",
              "2000    156    156\n",
              "\n",
              "[81 rows x 2 columns]"
            ],
            "text/html": [
              "\n",
              "  <div id=\"df-cefa5d12-49ef-4ce4-ac83-878feab66346\">\n",
              "    <div class=\"colab-df-container\">\n",
              "      <div>\n",
              "<style scoped>\n",
              "    .dataframe tbody tr th:only-of-type {\n",
              "        vertical-align: middle;\n",
              "    }\n",
              "\n",
              "    .dataframe tbody tr th {\n",
              "        vertical-align: top;\n",
              "    }\n",
              "\n",
              "    .dataframe thead th {\n",
              "        text-align: right;\n",
              "    }\n",
              "</style>\n",
              "<table border=\"1\" class=\"dataframe\">\n",
              "  <thead>\n",
              "    <tr style=\"text-align: right;\">\n",
              "      <th></th>\n",
              "      <th>title</th>\n",
              "      <th>genre</th>\n",
              "    </tr>\n",
              "    <tr>\n",
              "      <th>year</th>\n",
              "      <th></th>\n",
              "      <th></th>\n",
              "    </tr>\n",
              "  </thead>\n",
              "  <tbody>\n",
              "    <tr>\n",
              "      <th>1919</th>\n",
              "      <td>3</td>\n",
              "      <td>3</td>\n",
              "    </tr>\n",
              "    <tr>\n",
              "      <th>1920</th>\n",
              "      <td>2</td>\n",
              "      <td>2</td>\n",
              "    </tr>\n",
              "    <tr>\n",
              "      <th>1921</th>\n",
              "      <td>1</td>\n",
              "      <td>1</td>\n",
              "    </tr>\n",
              "    <tr>\n",
              "      <th>1922</th>\n",
              "      <td>2</td>\n",
              "      <td>2</td>\n",
              "    </tr>\n",
              "    <tr>\n",
              "      <th>1923</th>\n",
              "      <td>3</td>\n",
              "      <td>3</td>\n",
              "    </tr>\n",
              "    <tr>\n",
              "      <th>...</th>\n",
              "      <td>...</td>\n",
              "      <td>...</td>\n",
              "    </tr>\n",
              "    <tr>\n",
              "      <th>1996</th>\n",
              "      <td>345</td>\n",
              "      <td>345</td>\n",
              "    </tr>\n",
              "    <tr>\n",
              "      <th>1997</th>\n",
              "      <td>315</td>\n",
              "      <td>315</td>\n",
              "    </tr>\n",
              "    <tr>\n",
              "      <th>1998</th>\n",
              "      <td>337</td>\n",
              "      <td>337</td>\n",
              "    </tr>\n",
              "    <tr>\n",
              "      <th>1999</th>\n",
              "      <td>283</td>\n",
              "      <td>283</td>\n",
              "    </tr>\n",
              "    <tr>\n",
              "      <th>2000</th>\n",
              "      <td>156</td>\n",
              "      <td>156</td>\n",
              "    </tr>\n",
              "  </tbody>\n",
              "</table>\n",
              "<p>81 rows × 2 columns</p>\n",
              "</div>\n",
              "      <button class=\"colab-df-convert\" onclick=\"convertToInteractive('df-cefa5d12-49ef-4ce4-ac83-878feab66346')\"\n",
              "              title=\"Convert this dataframe to an interactive table.\"\n",
              "              style=\"display:none;\">\n",
              "        \n",
              "  <svg xmlns=\"http://www.w3.org/2000/svg\" height=\"24px\"viewBox=\"0 0 24 24\"\n",
              "       width=\"24px\">\n",
              "    <path d=\"M0 0h24v24H0V0z\" fill=\"none\"/>\n",
              "    <path d=\"M18.56 5.44l.94 2.06.94-2.06 2.06-.94-2.06-.94-.94-2.06-.94 2.06-2.06.94zm-11 1L8.5 8.5l.94-2.06 2.06-.94-2.06-.94L8.5 2.5l-.94 2.06-2.06.94zm10 10l.94 2.06.94-2.06 2.06-.94-2.06-.94-.94-2.06-.94 2.06-2.06.94z\"/><path d=\"M17.41 7.96l-1.37-1.37c-.4-.4-.92-.59-1.43-.59-.52 0-1.04.2-1.43.59L10.3 9.45l-7.72 7.72c-.78.78-.78 2.05 0 2.83L4 21.41c.39.39.9.59 1.41.59.51 0 1.02-.2 1.41-.59l7.78-7.78 2.81-2.81c.8-.78.8-2.07 0-2.86zM5.41 20L4 18.59l7.72-7.72 1.47 1.35L5.41 20z\"/>\n",
              "  </svg>\n",
              "      </button>\n",
              "      \n",
              "  <style>\n",
              "    .colab-df-container {\n",
              "      display:flex;\n",
              "      flex-wrap:wrap;\n",
              "      gap: 12px;\n",
              "    }\n",
              "\n",
              "    .colab-df-convert {\n",
              "      background-color: #E8F0FE;\n",
              "      border: none;\n",
              "      border-radius: 50%;\n",
              "      cursor: pointer;\n",
              "      display: none;\n",
              "      fill: #1967D2;\n",
              "      height: 32px;\n",
              "      padding: 0 0 0 0;\n",
              "      width: 32px;\n",
              "    }\n",
              "\n",
              "    .colab-df-convert:hover {\n",
              "      background-color: #E2EBFA;\n",
              "      box-shadow: 0px 1px 2px rgba(60, 64, 67, 0.3), 0px 1px 3px 1px rgba(60, 64, 67, 0.15);\n",
              "      fill: #174EA6;\n",
              "    }\n",
              "\n",
              "    [theme=dark] .colab-df-convert {\n",
              "      background-color: #3B4455;\n",
              "      fill: #D2E3FC;\n",
              "    }\n",
              "\n",
              "    [theme=dark] .colab-df-convert:hover {\n",
              "      background-color: #434B5C;\n",
              "      box-shadow: 0px 1px 3px 1px rgba(0, 0, 0, 0.15);\n",
              "      filter: drop-shadow(0px 1px 2px rgba(0, 0, 0, 0.3));\n",
              "      fill: #FFFFFF;\n",
              "    }\n",
              "  </style>\n",
              "\n",
              "      <script>\n",
              "        const buttonEl =\n",
              "          document.querySelector('#df-cefa5d12-49ef-4ce4-ac83-878feab66346 button.colab-df-convert');\n",
              "        buttonEl.style.display =\n",
              "          google.colab.kernel.accessAllowed ? 'block' : 'none';\n",
              "\n",
              "        async function convertToInteractive(key) {\n",
              "          const element = document.querySelector('#df-cefa5d12-49ef-4ce4-ac83-878feab66346');\n",
              "          const dataTable =\n",
              "            await google.colab.kernel.invokeFunction('convertToInteractive',\n",
              "                                                     [key], {});\n",
              "          if (!dataTable) return;\n",
              "\n",
              "          const docLinkHtml = 'Like what you see? Visit the ' +\n",
              "            '<a target=\"_blank\" href=https://colab.research.google.com/notebooks/data_table.ipynb>data table notebook</a>'\n",
              "            + ' to learn more about interactive tables.';\n",
              "          element.innerHTML = '';\n",
              "          dataTable['output_type'] = 'display_data';\n",
              "          await google.colab.output.renderOutput(dataTable, element);\n",
              "          const docLink = document.createElement('div');\n",
              "          docLink.innerHTML = docLinkHtml;\n",
              "          element.appendChild(docLink);\n",
              "        }\n",
              "      </script>\n",
              "    </div>\n",
              "  </div>\n",
              "  "
            ]
          },
          "metadata": {},
          "execution_count": 130
        }
      ]
    },
    {
      "cell_type": "code",
      "source": [
        "movies.groupby(\"year\").count().plot(y = \"\")"
      ],
      "metadata": {
        "id": "0MLroGAbbvdc"
      },
      "execution_count": null,
      "outputs": []
    }
  ]
}